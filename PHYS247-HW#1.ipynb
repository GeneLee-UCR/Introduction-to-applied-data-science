{
 "cells": [
  {
   "cell_type": "markdown",
   "metadata": {},
   "source": [
    "# PHYS247 HW#1 - Gene Lee"
   ]
  },
  {
   "cell_type": "markdown",
   "metadata": {},
   "source": [
    "## Problem #1"
   ]
  },
  {
   "cell_type": "markdown",
   "metadata": {},
   "source": [
    "### a) "
   ]
  },
  {
   "cell_type": "markdown",
   "metadata": {},
   "source": [
    "$\\Omega(S,N)$ = $\\sum_{k \\in (j|Asj=1)}$$\\Omega(k, N-1)$"
   ]
  },
  {
   "cell_type": "markdown",
   "metadata": {},
   "source": [
    "$\\Omega$(N,0)=[$\\Omega$(N,8)]\n",
    "\n",
    "$\\Omega$(N,1)=[$\\Omega$(N,2), $\\Omega$(N,4)]\n",
    "\n",
    "$\\Omega$(N,2)=[$\\Omega$(N,1), $\\Omega$(N,3), $\\Omega$(N,5)]\n",
    "\n",
    "$\\Omega$(N,3)=[$\\Omega$(N,2), $\\Omega$(N,6)]\n",
    "\n",
    "$\\Omega$(N,4)=[$\\Omega$(N,1), $\\Omega$(N,5), $\\Omega$(N,7)]\n",
    "\n",
    "$\\Omega$(N,5)=[$\\Omega$(N,2), $\\Omega$(N,4), $\\Omega$(N,6), $\\Omega$(N,8)]\n",
    "\n",
    "$\\Omega$(N,6)=[$\\Omega$(N,3), $\\Omega$(N,5), $\\Omega$(N,9)]\n",
    "\n",
    "$\\Omega$(N,7)=[$\\Omega$(N,4), $\\Omega$(N,8)]\n",
    "\n",
    "$\\Omega$(N,8)=[$\\Omega$(N,5), $\\Omega$(N,7), $\\Omega$(N,9), $\\Omega$(N,0)]\n",
    "\n",
    "$\\Omega$(N,9)=[$\\Omega$(N,6), $\\Omega$(N,8)]"
   ]
  },
  {
   "cell_type": "markdown",
   "metadata": {},
   "source": [
    "### b)"
   ]
  },
  {
   "cell_type": "code",
   "execution_count": 338,
   "metadata": {},
   "outputs": [],
   "source": [
    "import numpy as np\n",
    "import matplotlib.pylab as plt"
   ]
  },
  {
   "cell_type": "code",
   "execution_count": 489,
   "metadata": {},
   "outputs": [
    {
     "data": {
      "text/plain": [
       "matrix([[1, 1, 1, 1, 1, 1, 1, 1, 1, 1]])"
      ]
     },
     "execution_count": 489,
     "metadata": {},
     "output_type": "execute_result"
    }
   ],
   "source": [
    "omeg1=np.matrix([1,1,1,1,1,1,1,1,1,1])\n",
    "omeg1"
   ]
  },
  {
   "cell_type": "code",
   "execution_count": 400,
   "metadata": {},
   "outputs": [
    {
     "data": {
      "text/plain": [
       "matrix([[ 31,  51,  65,  51,  66, 108,  66,  57,  76,  57]])"
      ]
     },
     "execution_count": 400,
     "metadata": {},
     "output_type": "execute_result"
    }
   ],
   "source": [
    "omeg2=np.dot(omeg1,A) \n",
    "omeg3=np.dot(omeg2,A)\n",
    "omeg4=np.dot(omeg3,A)\n",
    "omeg5=np.dot(omeg4,A)\n",
    "omeg5 # N numbers dialed"
   ]
  },
  {
   "cell_type": "code",
   "execution_count": 488,
   "metadata": {},
   "outputs": [
    {
     "data": {
      "text/plain": [
       "matrix([[ 31,  51,  65,  51,  66, 108,  66,  57,  76,  57]])"
      ]
     },
     "execution_count": 488,
     "metadata": {},
     "output_type": "execute_result"
    }
   ],
   "source": [
    "H=A**4 # A to the N-1\n",
    "HOm=omeg1*H\n",
    "HOm"
   ]
  },
  {
   "cell_type": "markdown",
   "metadata": {},
   "source": [
    "### c)"
   ]
  },
  {
   "cell_type": "code",
   "execution_count": 349,
   "metadata": {},
   "outputs": [
    {
     "data": {
      "text/plain": [
       "matrix([[0, 0, 0, 0, 0, 0, 0, 0, 1, 0],\n",
       "        [0, 0, 1, 0, 1, 0, 0, 0, 0, 0],\n",
       "        [0, 1, 0, 1, 0, 1, 0, 0, 0, 0],\n",
       "        [0, 0, 1, 0, 0, 0, 1, 0, 0, 0],\n",
       "        [0, 1, 0, 0, 0, 1, 0, 1, 0, 0],\n",
       "        [0, 0, 1, 0, 1, 0, 1, 0, 1, 0],\n",
       "        [0, 0, 0, 1, 0, 1, 0, 0, 0, 1],\n",
       "        [0, 0, 0, 0, 1, 0, 0, 0, 1, 0],\n",
       "        [1, 0, 0, 0, 0, 1, 0, 1, 0, 1],\n",
       "        [0, 0, 0, 0, 0, 0, 1, 0, 1, 0]])"
      ]
     },
     "execution_count": 349,
     "metadata": {},
     "output_type": "execute_result"
    }
   ],
   "source": [
    "A=np.matrix([\n",
    "    [0,0,0,0,0,0,0,0,1,0],\n",
    "    [0,0,1,0,1,0,0,0,0,0],\n",
    "    [0,1,0,1,0,1,0,0,0,0],\n",
    "    [0,0,1,0,0,0,1,0,0,0],\n",
    "    [0,1,0,0,0,1,0,1,0,0],\n",
    "    [0,0,1,0,1,0,1,0,1,0],\n",
    "    [0,0,0,1,0,1,0,0,0,1],\n",
    "    [0,0,0,0,1,0,0,0,1,0],\n",
    "    [1,0,0,0,0,1,0,1,0,1],\n",
    "    [0,0,0,0,0,0,1,0,1,0]]\n",
    ")\n",
    "A"
   ]
  },
  {
   "cell_type": "code",
   "execution_count": 403,
   "metadata": {},
   "outputs": [
    {
     "data": {
      "text/plain": [
       "matrix([[0, 0, 0, 0, 0, 0, 0, 0, 1, 0],\n",
       "        [0, 0, 1, 0, 1, 0, 0, 0, 0, 0],\n",
       "        [0, 1, 0, 1, 0, 1, 0, 0, 0, 0],\n",
       "        [0, 0, 1, 0, 0, 0, 1, 0, 0, 0],\n",
       "        [0, 1, 0, 0, 0, 1, 0, 1, 0, 0],\n",
       "        [0, 0, 1, 0, 1, 0, 1, 0, 1, 0],\n",
       "        [0, 0, 0, 1, 0, 1, 0, 0, 0, 1],\n",
       "        [0, 0, 0, 0, 1, 0, 0, 0, 1, 0],\n",
       "        [1, 0, 0, 0, 0, 1, 0, 1, 0, 1],\n",
       "        [0, 0, 0, 0, 0, 0, 1, 0, 1, 0]])"
      ]
     },
     "execution_count": 403,
     "metadata": {},
     "output_type": "execute_result"
    }
   ],
   "source": [
    "A.T"
   ]
  },
  {
   "cell_type": "markdown",
   "metadata": {},
   "source": [
    "The matrix and the transpose are indeed equal. I was expecting this because A is a symmetrical matrix about the main diagonal"
   ]
  },
  {
   "cell_type": "markdown",
   "metadata": {},
   "source": [
    "### d)"
   ]
  },
  {
   "cell_type": "code",
   "execution_count": 527,
   "metadata": {},
   "outputs": [
    {
     "data": {
      "text/plain": [
       "matrix([[18713]])"
      ]
     },
     "execution_count": 527,
     "metadata": {},
     "output_type": "execute_result"
    }
   ],
   "source": [
    "def Dialer_Problem (S, N):\n",
    "    for i in range(N-1):\n",
    "        Omega = omeg1*(A**(N-1))\n",
    "        OmegaT = Omega.T\n",
    "    return OmegaT[S]\n",
    "\n",
    "Dialer_Problem(5,10)"
   ]
  },
  {
   "cell_type": "markdown",
   "metadata": {},
   "source": [
    "### e)"
   ]
  },
  {
   "cell_type": "code",
   "execution_count": null,
   "metadata": {},
   "outputs": [],
   "source": []
  },
  {
   "cell_type": "code",
   "execution_count": null,
   "metadata": {},
   "outputs": [],
   "source": []
  },
  {
   "cell_type": "markdown",
   "metadata": {},
   "source": [
    " ### f)"
   ]
  },
  {
   "cell_type": "code",
   "execution_count": 311,
   "metadata": {},
   "outputs": [],
   "source": [
    "import time"
   ]
  },
  {
   "cell_type": "code",
   "execution_count": 545,
   "metadata": {},
   "outputs": [
    {
     "name": "stdout",
     "output_type": "stream",
     "text": [
      "That took 0.9965896606445312 milliseconds\n"
     ]
    },
    {
     "data": {
      "text/plain": [
       "matrix([[18713]])"
      ]
     },
     "execution_count": 545,
     "metadata": {},
     "output_type": "execute_result"
    }
   ],
   "source": [
    "def Dialer_Problem_Time (S, N):\n",
    "    t1=time.time()\n",
    "    for i in range(N-1):\n",
    "        Omega = omeg1*(A**(N-1))\n",
    "        OmegaT = Omega.T\n",
    "    t2=time.time()\n",
    "    print('That took '+str(1000*(t2-t1))+' milliseconds')\n",
    "    return OmegaT[S]\n",
    "\n",
    "Dialer_Problem_Time(5,10)"
   ]
  },
  {
   "cell_type": "markdown",
   "metadata": {},
   "source": [
    "### g)"
   ]
  },
  {
   "cell_type": "code",
   "execution_count": null,
   "metadata": {},
   "outputs": [],
   "source": []
  },
  {
   "cell_type": "markdown",
   "metadata": {},
   "source": [
    "### h)"
   ]
  },
  {
   "cell_type": "code",
   "execution_count": 553,
   "metadata": {},
   "outputs": [
    {
     "data": {
      "text/plain": [
       "'10110'"
      ]
     },
     "execution_count": 553,
     "metadata": {},
     "output_type": "execute_result"
    }
   ],
   "source": [
    "def to_bin(decimal):\n",
    "    bit=''\n",
    "    if decimal==0:\n",
    "        bit='0'+bit\n",
    "    else:\n",
    "        while decimal >0:\n",
    "            bit=str(decimal%2)+bit\n",
    "            decimal=decimal//2\n",
    "    return bit\n",
    "\n",
    "to_bin(22)\n"
   ]
  },
  {
   "cell_type": "markdown",
   "metadata": {},
   "source": [
    "### i)"
   ]
  },
  {
   "cell_type": "code",
   "execution_count": null,
   "metadata": {},
   "outputs": [],
   "source": []
  },
  {
   "cell_type": "markdown",
   "metadata": {},
   "source": [
    "### j)"
   ]
  },
  {
   "cell_type": "code",
   "execution_count": 474,
   "metadata": {},
   "outputs": [
    {
     "data": {
      "text/plain": [
       "0.0"
      ]
     },
     "execution_count": 474,
     "metadata": {},
     "output_type": "execute_result"
    }
   ],
   "source": [
    "def to_bin_time(decimal):\n",
    "    t1=time.time()\n",
    "    bit=''\n",
    "    if decimal==0:\n",
    "        bit='0'+bit\n",
    "    else:\n",
    "        while (decimal>0):\n",
    "            bit=str(decimal%2)+bit\n",
    "            decimal=decimal//2\n",
    "    t2=time.time()\n",
    "    duration=(t2-t1)*1000\n",
    "    return(duration)\n",
    "\n",
    "to_bin_time(22)"
   ]
  },
  {
   "cell_type": "code",
   "execution_count": 464,
   "metadata": {},
   "outputs": [
    {
     "ename": "TypeError",
     "evalue": "'>' not supported between instances of 'range' and 'int'",
     "output_type": "error",
     "traceback": [
      "\u001b[1;31m---------------------------------------------------------------------------\u001b[0m",
      "\u001b[1;31mTypeError\u001b[0m                                 Traceback (most recent call last)",
      "\u001b[1;32m<ipython-input-464-8992415e4472>\u001b[0m in \u001b[0;36m<module>\u001b[1;34m\u001b[0m\n\u001b[0;32m      5\u001b[0m \u001b[0mplt\u001b[0m\u001b[1;33m.\u001b[0m\u001b[0mxlim\u001b[0m\u001b[1;33m(\u001b[0m\u001b[1;36m0\u001b[0m\u001b[1;33m,\u001b[0m\u001b[1;36m1000\u001b[0m\u001b[1;33m)\u001b[0m\u001b[1;33m\u001b[0m\u001b[1;33m\u001b[0m\u001b[0m\n\u001b[0;32m      6\u001b[0m \u001b[0mplt\u001b[0m\u001b[1;33m.\u001b[0m\u001b[0mylim\u001b[0m\u001b[1;33m(\u001b[0m\u001b[1;36m0\u001b[0m\u001b[1;33m,\u001b[0m\u001b[1;36m1\u001b[0m\u001b[1;33m)\u001b[0m\u001b[1;33m\u001b[0m\u001b[1;33m\u001b[0m\u001b[0m\n\u001b[1;32m----> 7\u001b[1;33m \u001b[0mplt\u001b[0m\u001b[1;33m.\u001b[0m\u001b[0mplot\u001b[0m\u001b[1;33m(\u001b[0m\u001b[0mN\u001b[0m\u001b[1;33m,\u001b[0m\u001b[0mto_bin_time\u001b[0m\u001b[1;33m(\u001b[0m\u001b[0mN\u001b[0m\u001b[1;33m)\u001b[0m\u001b[1;33m,\u001b[0m\u001b[0mc\u001b[0m\u001b[1;33m=\u001b[0m\u001b[1;34m'blue'\u001b[0m\u001b[1;33m)\u001b[0m\u001b[1;33m\u001b[0m\u001b[1;33m\u001b[0m\u001b[0m\n\u001b[0m",
      "\u001b[1;32m<ipython-input-458-cb227ed1c519>\u001b[0m in \u001b[0;36mto_bin_time\u001b[1;34m(decimal)\u001b[0m\n\u001b[0;32m      5\u001b[0m         \u001b[0mbit\u001b[0m\u001b[1;33m=\u001b[0m\u001b[1;34m'0'\u001b[0m\u001b[1;33m+\u001b[0m\u001b[0mbit\u001b[0m\u001b[1;33m\u001b[0m\u001b[1;33m\u001b[0m\u001b[0m\n\u001b[0;32m      6\u001b[0m     \u001b[1;32melse\u001b[0m\u001b[1;33m:\u001b[0m\u001b[1;33m\u001b[0m\u001b[1;33m\u001b[0m\u001b[0m\n\u001b[1;32m----> 7\u001b[1;33m         \u001b[1;32mwhile\u001b[0m \u001b[0mdecimal\u001b[0m \u001b[1;33m>\u001b[0m\u001b[1;36m0\u001b[0m\u001b[1;33m:\u001b[0m\u001b[1;33m\u001b[0m\u001b[1;33m\u001b[0m\u001b[0m\n\u001b[0m\u001b[0;32m      8\u001b[0m             \u001b[0mbit\u001b[0m\u001b[1;33m=\u001b[0m\u001b[0mstr\u001b[0m\u001b[1;33m(\u001b[0m\u001b[0mdecimal\u001b[0m\u001b[1;33m%\u001b[0m\u001b[1;36m2\u001b[0m\u001b[1;33m)\u001b[0m\u001b[1;33m+\u001b[0m\u001b[0mbit\u001b[0m\u001b[1;33m\u001b[0m\u001b[1;33m\u001b[0m\u001b[0m\n\u001b[0;32m      9\u001b[0m             \u001b[0mdecimal\u001b[0m\u001b[1;33m=\u001b[0m\u001b[0mdecimal\u001b[0m\u001b[1;33m//\u001b[0m\u001b[1;36m2\u001b[0m\u001b[1;33m\u001b[0m\u001b[1;33m\u001b[0m\u001b[0m\n",
      "\u001b[1;31mTypeError\u001b[0m: '>' not supported between instances of 'range' and 'int'"
     ]
    },
    {
     "data": {
      "image/png": "[encoded data removed]",
      "text/plain": [
       "<Figure size 720x720 with 1 Axes>"
      ]
     },
     "metadata": {
      "needs_background": "light"
     },
     "output_type": "display_data"
    }
   ],
   "source": [
    "plt.figure(figsize=(10,10))\n",
    "plt.xlabel('N',fontsize=18)\n",
    "plt.ylabel('Time (ms)', fontsize=18)\n",
    "plt.xlim(0,1000)\n",
    "plt.ylim(0,1)\n",
    "plt.plot(N,to_bin_time(N),c='blue')"
   ]
  },
  {
   "cell_type": "markdown",
   "metadata": {},
   "source": [
    "### k)"
   ]
  },
  {
   "cell_type": "code",
   "execution_count": 555,
   "metadata": {},
   "outputs": [
    {
     "name": "stdout",
     "output_type": "stream",
     "text": [
      "It takes 0.0 milliseconds\n"
     ]
    },
    {
     "data": {
      "text/plain": [
       "'10110'"
      ]
     },
     "execution_count": 555,
     "metadata": {},
     "output_type": "execute_result"
    }
   ],
   "source": [
    "def to_bin_time(decimal):\n",
    "    t1=time.time()\n",
    "    bit=''\n",
    "    if decimal==0:\n",
    "        bit='0'+bit\n",
    "    else:\n",
    "        while (decimal>0):\n",
    "            bit=str(decimal%2)+bit\n",
    "            decimal=decimal//2\n",
    "    t2=time.time()\n",
    "    duration=(t2-t1)*1000\n",
    "    print('It takes {s} milliseconds'.format(s=duration))\n",
    "    return(bit)\n",
    "\n",
    "to_bin_time(22)"
   ]
  },
  {
   "cell_type": "markdown",
   "metadata": {},
   "source": [
    "## Problem #2"
   ]
  },
  {
   "cell_type": "markdown",
   "metadata": {},
   "source": [
    "### a)"
   ]
  },
  {
   "cell_type": "code",
   "execution_count": 154,
   "metadata": {},
   "outputs": [
    {
     "data": {
      "text/plain": [
       "array([[ 1.31220e+00, -7.20900e-01,  3.64500e-01, -2.72970e+00,\n",
       "         2.34900e-01, -6.15600e-01, -1.42560e+00, -2.33280e+00,\n",
       "        -2.43000e-02,  1.54710e+00],\n",
       "       [-7.20900e-01,  3.96050e-01, -2.00250e-01,  1.49965e+00,\n",
       "        -1.29050e-01,  3.38200e-01,  7.83200e-01,  1.28160e+00,\n",
       "         1.33500e-02, -8.49950e-01],\n",
       "       [ 3.64500e-01, -2.00250e-01,  1.01250e-01, -7.58250e-01,\n",
       "         6.52500e-02, -1.71000e-01, -3.96000e-01, -6.48000e-01,\n",
       "        -6.75000e-03,  4.29750e-01],\n",
       "       [-2.72970e+00,  1.49965e+00, -7.58250e-01,  5.67845e+00,\n",
       "        -4.88650e-01,  1.28060e+00,  2.96560e+00,  4.85280e+00,\n",
       "         5.05500e-02, -3.21835e+00],\n",
       "       [ 2.34900e-01, -1.29050e-01,  6.52500e-02, -4.88650e-01,\n",
       "         4.20500e-02, -1.10200e-01, -2.55200e-01, -4.17600e-01,\n",
       "        -4.35000e-03,  2.76950e-01],\n",
       "       [-6.15600e-01,  3.38200e-01, -1.71000e-01,  1.28060e+00,\n",
       "        -1.10200e-01,  2.88800e-01,  6.68800e-01,  1.09440e+00,\n",
       "         1.14000e-02, -7.25800e-01],\n",
       "       [-1.42560e+00,  7.83200e-01, -3.96000e-01,  2.96560e+00,\n",
       "        -2.55200e-01,  6.68800e-01,  1.54880e+00,  2.53440e+00,\n",
       "         2.64000e-02, -1.68080e+00],\n",
       "       [-2.33280e+00,  1.28160e+00, -6.48000e-01,  4.85280e+00,\n",
       "        -4.17600e-01,  1.09440e+00,  2.53440e+00,  4.14720e+00,\n",
       "         4.32000e-02, -2.75040e+00],\n",
       "       [-2.43000e-02,  1.33500e-02, -6.75000e-03,  5.05500e-02,\n",
       "        -4.35000e-03,  1.14000e-02,  2.64000e-02,  4.32000e-02,\n",
       "         4.50000e-04, -2.86500e-02],\n",
       "       [ 1.54710e+00, -8.49950e-01,  4.29750e-01, -3.21835e+00,\n",
       "         2.76950e-01, -7.25800e-01, -1.68080e+00, -2.75040e+00,\n",
       "        -2.86500e-02,  1.82405e+00]])"
      ]
     },
     "execution_count": 154,
     "metadata": {},
     "output_type": "execute_result"
    }
   ],
   "source": [
    "D=np.array([[1.72, 0.10],\n",
    "          [-0.58, 0.31],\n",
    "           [1.99, 1.54],\n",
    "           [1.60, 4.97],\n",
    "           [2.72, 2.43],\n",
    "           [2.83, 3.59],\n",
    "           [5.95, 7.71],\n",
    "           [4.75, 7.63],\n",
    "           [5.57, 5.60],\n",
    "           [9.82, 7.91]])\n",
    "Dcov=np.cov(D)\n",
    "Dcov"
   ]
  },
  {
   "cell_type": "markdown",
   "metadata": {},
   "source": [
    "### b)"
   ]
  },
  {
   "cell_type": "code",
   "execution_count": 155,
   "metadata": {},
   "outputs": [
    {
     "data": {
      "text/plain": [
       "(array([ 0.00000000e+00+0.00000000e+00j,  1.53393000e+01+0.00000000e+00j,\n",
       "         3.54672718e-16+0.00000000e+00j, -5.89078252e-16+0.00000000e+00j,\n",
       "         1.70455707e-16+0.00000000e+00j, -9.59141793e-17+0.00000000e+00j,\n",
       "        -6.63096877e-18+3.93799511e-17j, -6.63096877e-18-3.93799511e-17j,\n",
       "        -6.44913346e-18+0.00000000e+00j,  3.35562572e-19+0.00000000e+00j]),\n",
       " array([[-0.95627142+0.j        ,  0.29248072+0.j        ,\n",
       "          0.39847016+0.j        , -0.18202426+0.j        ,\n",
       "         -0.21918055+0.j        , -0.39526557+0.j        ,\n",
       "         -0.27999928+0.42518907j, -0.27999928-0.42518907j,\n",
       "         -0.91030177+0.j        ,  0.954825  +0.j        ],\n",
       "        [-0.04914601+0.j        , -0.16068385+0.j        ,\n",
       "         -0.02957729+0.j        , -0.30079959+0.j        ,\n",
       "          0.07226583+0.j        , -0.09964039+0.j        ,\n",
       "          0.03653214+0.04996892j,  0.03653214-0.04996892j,\n",
       "         -0.06682288+0.j        ,  0.04794282+0.j        ],\n",
       "        [ 0.02484911+0.j        ,  0.08124464+0.j        ,\n",
       "          0.16435659+0.j        ,  0.15914426+0.j        ,\n",
       "          0.39038377+0.j        ,  0.09890139+0.j        ,\n",
       "          0.64856429+0.j        ,  0.64856429-0.j        ,\n",
       "         -0.15740331+0.j        , -0.03270623+0.j        ],\n",
       "        [-0.18609221+0.j        , -0.60843212+0.j        ,\n",
       "         -0.26287541+0.j        ,  0.62569916+0.j        ,\n",
       "         -0.47933631+0.j        , -0.36509209+0.j        ,\n",
       "          0.11838526-0.10985957j,  0.11838526+0.10985957j,\n",
       "         -0.24261619+0.j        ,  0.18252964+0.j        ],\n",
       "        [ 0.01601387+0.j        ,  0.05235766+0.j        ,\n",
       "          0.0484035 +0.j        ,  0.06254159+0.j        ,\n",
       "          0.00460661+0.j        , -0.22105737+0.j        ,\n",
       "          0.14495061+0.19043813j,  0.14495061-0.19043813j,\n",
       "         -0.2002373 +0.j        , -0.03096528+0.j        ],\n",
       "        [-0.04196738+0.j        , -0.13721318+0.j        ,\n",
       "         -0.13762703+0.j        ,  0.2172766 +0.j        ,\n",
       "         -0.06400093+0.j        , -0.68006434+0.j        ,\n",
       "          0.27735841+0.22866595j,  0.27735841-0.22866595j,\n",
       "         -0.11193271+0.j        ,  0.03883024+0.j        ],\n",
       "        [-0.09718763+0.j        , -0.31775683+0.j        ,\n",
       "          0.5299947 +0.j        , -0.50562322+0.j        ,\n",
       "         -0.33159388+0.j        ,  0.19597703+0.j        ,\n",
       "         -0.07261651+0.03853022j, -0.07261651-0.03853022j,\n",
       "         -0.08838835+0.j        ,  0.0967711 +0.j        ],\n",
       "        [-0.1590343 +0.j        , -0.51996573+0.j        ,\n",
       "          0.5405634 +0.j        , -0.2736674 +0.j        ,\n",
       "          0.66997697+0.j        ,  0.04124833+0.j        ,\n",
       "         -0.15755096+0.24038761j, -0.15755096-0.24038761j,\n",
       "         -0.10626535+0.j        ,  0.16080042+0.j        ],\n",
       "        [-0.00165661+0.j        , -0.00541631+0.j        ,\n",
       "          0.00196823+0.j        , -0.00755317+0.j        ,\n",
       "         -0.00734769+0.j        , -0.01085095+0.j        ,\n",
       "         -0.00367816+0.02158532j, -0.00367816-0.02158532j,\n",
       "         -0.05301315+0.j        ,  0.05371769+0.j        ],\n",
       "        [ 0.10547066+0.j        ,  0.34483838+0.j        ,\n",
       "          0.38709043+0.j        ,  0.2789877 +0.j        ,\n",
       "         -0.03974637+0.j        , -0.37307261+0.j        ,\n",
       "          0.09440387-0.07079821j,  0.09440387+0.07079821j,\n",
       "          0.09331587+0.j        , -0.10512037+0.j        ]]))"
      ]
     },
     "execution_count": 155,
     "metadata": {},
     "output_type": "execute_result"
    }
   ],
   "source": [
    "EigDcov=np.linalg.eig(Dcov)\n",
    "EigDcov"
   ]
  },
  {
   "cell_type": "code",
   "execution_count": 156,
   "metadata": {},
   "outputs": [
    {
     "data": {
      "text/plain": [
       "0.0904244652624305"
      ]
     },
     "execution_count": 156,
     "metadata": {},
     "output_type": "execute_result"
    }
   ],
   "source": [
    "def Var_ID (A):\n",
    "    Var=np.var(EigDcov[1].T[A])\n",
    "    return Var\n",
    "Var_ID(1)"
   ]
  },
  {
   "cell_type": "code",
   "execution_count": 157,
   "metadata": {},
   "outputs": [
    {
     "data": {
      "text/plain": [
       "[0.08190916036225314,\n",
       " 0.0904244652624305,\n",
       " 0.07307882687351808,\n",
       " 0.09994526711088242,\n",
       " 0.0999998421877785,\n",
       " 0.06727820865564657,\n",
       " 0.08321386333713282,\n",
       " 0.08321386333713282,\n",
       " 0.06600898900529599,\n",
       " 0.08132336066032007]"
      ]
     },
     "execution_count": 157,
     "metadata": {},
     "output_type": "execute_result"
    }
   ],
   "source": [
    "N=range(0,10)\n",
    "S2=[]\n",
    "for i in N:\n",
    "    S2.append(Var_ID(i))\n",
    "S2"
   ]
  },
  {
   "cell_type": "code",
   "execution_count": 158,
   "metadata": {},
   "outputs": [
    {
     "data": {
      "text/plain": [
       "0.0999998421877785"
      ]
     },
     "execution_count": 158,
     "metadata": {},
     "output_type": "execute_result"
    }
   ],
   "source": [
    "np.amax(S2) #this value for variance correspondes with the N=4 vector"
   ]
  },
  {
   "cell_type": "code",
   "execution_count": 220,
   "metadata": {},
   "outputs": [
    {
     "data": {
      "text/plain": [
       "array([ 0.01601387+0.j        ,  0.05235766+0.j        ,\n",
       "        0.0484035 +0.j        ,  0.06254159+0.j        ,\n",
       "        0.00460661+0.j        , -0.22105737+0.j        ,\n",
       "        0.14495061+0.19043813j,  0.14495061-0.19043813j,\n",
       "       -0.2002373 +0.j        , -0.03096528+0.j        ])"
      ]
     },
     "execution_count": 220,
     "metadata": {},
     "output_type": "execute_result"
    }
   ],
   "source": [
    "v=EigDcov[1][4]\n",
    "v"
   ]
  },
  {
   "cell_type": "markdown",
   "metadata": {},
   "source": [
    "### c)"
   ]
  },
  {
   "cell_type": "code",
   "execution_count": 225,
   "metadata": {},
   "outputs": [
    {
     "data": {
      "text/plain": [
       "array([-0.28792574+0.22852575j,  0.47808158+0.01523505j])"
      ]
     },
     "execution_count": 225,
     "metadata": {},
     "output_type": "execute_result"
    }
   ],
   "source": [
    "D=np.asarray(D)\n",
    "OneD=np.dot(v,D)\n",
    "OneD"
   ]
  },
  {
   "cell_type": "code",
   "execution_count": 269,
   "metadata": {},
   "outputs": [
    {
     "name": "stderr",
     "output_type": "stream",
     "text": [
      "C:\\Users\\glee4\\anaconda3\\envs\\PHYS247\\lib\\site-packages\\numpy\\core\\_asarray.py:85: ComplexWarning: Casting complex values to real discards the imaginary part\n",
      "  return array(a, dtype, copy=False, order=order)\n"
     ]
    },
    {
     "data": {
      "text/plain": [
       "Text(0, 0.5, 'Y')"
      ]
     },
     "execution_count": 269,
     "metadata": {},
     "output_type": "execute_result"
    },
    {
     "data": {
      "image/png": "[encoded data removed]",
      "text/plain": [
       "<Figure size 720x720 with 1 Axes>"
      ]
     },
     "metadata": {
      "needs_background": "light"
     },
     "output_type": "display_data"
    }
   ],
   "source": [
    "plt.figure(figsize=(10,10))\n",
    "plt.plot(OneD[0],OneD[1],'bo')\n",
    "plt.xlabel('X',fontsize=18)\n",
    "plt.ylabel('Y', fontsize=18)"
   ]
  }
 ],
 "metadata": {
  "kernelspec": {
   "display_name": "PHYS247",
   "language": "python",
   "name": "phys247"
  },
  "language_info": {
   "codemirror_mode": {
    "name": "ipython",
    "version": 3
   },
   "file_extension": ".py",
   "mimetype": "text/x-python",
   "name": "python",
   "nbconvert_exporter": "python",
   "pygments_lexer": "ipython3",
   "version": "3.8.2"
  }
 },
 "nbformat": 4,
 "nbformat_minor": 4
}
